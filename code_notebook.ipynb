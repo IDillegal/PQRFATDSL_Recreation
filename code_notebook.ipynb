{
  "nbformat": 4,
  "nbformat_minor": 0,
  "metadata": {
    "orig_nbformat": 2,
    "file_extension": ".py",
    "mimetype": "text/x-python",
    "name": "python",
    "npconvert_exporter": "python",
    "pygments_lexer": "ipython3",
    "version": 3,
    "colab": {
      "name": "code_2.ipynb",
      "provenance": [],
      "collapsed_sections": []
    },
    "kernelspec": {
      "name": "python3",
      "display_name": "Python 3"
    },
    "accelerator": "GPU"
  },
  "cells": [
    {
      "cell_type": "code",
      "metadata": {
        "id": "2q5OJdsIWXhi",
        "colab_type": "code",
        "colab": {
          "base_uri": "https://localhost:8080/",
          "height": 204
        },
        "outputId": "39538df3-da27-443a-a72a-0c22dd70687a"
      },
      "source": [
        "!pip install arch"
      ],
      "execution_count": 1,
      "outputs": [
        {
          "output_type": "stream",
          "text": [
            "Requirement already satisfied: arch in /root/.local/lib/python3.6/site-packages (4.11)\n",
            "Requirement already satisfied: statsmodels>=0.9 in /usr/local/lib/python3.6/dist-packages (from arch) (0.10.2)\n",
            "Requirement already satisfied: property-cached>=1.6.2 in /root/.local/lib/python3.6/site-packages (from arch) (1.6.3)\n",
            "Requirement already satisfied: numpy>=1.14 in /usr/local/lib/python3.6/dist-packages (from arch) (1.17.4)\n",
            "Requirement already satisfied: cython>=0.29 in /usr/local/lib/python3.6/dist-packages (from arch) (0.29.14)\n",
            "Requirement already satisfied: scipy>=1.0 in /usr/local/lib/python3.6/dist-packages (from arch) (1.3.3)\n",
            "Requirement already satisfied: pandas>=0.22 in /usr/local/lib/python3.6/dist-packages (from arch) (0.25.3)\n",
            "Requirement already satisfied: patsy>=0.4.0 in /usr/local/lib/python3.6/dist-packages (from statsmodels>=0.9->arch) (0.5.1)\n",
            "Requirement already satisfied: python-dateutil>=2.6.1 in /usr/local/lib/python3.6/dist-packages (from pandas>=0.22->arch) (2.6.1)\n",
            "Requirement already satisfied: pytz>=2017.2 in /usr/local/lib/python3.6/dist-packages (from pandas>=0.22->arch) (2018.9)\n",
            "Requirement already satisfied: six in /usr/local/lib/python3.6/dist-packages (from patsy>=0.4.0->statsmodels>=0.9->arch) (1.12.0)\n"
          ],
          "name": "stdout"
        }
      ]
    },
    {
      "cell_type": "code",
      "metadata": {
        "id": "w3ywEOaOVeq7",
        "colab_type": "code",
        "colab": {
          "base_uri": "https://localhost:8080/",
          "height": 80
        },
        "outputId": "15903726-7f03-43b6-ccf0-87ae20bfcab9"
      },
      "source": [
        "import os\n",
        "import datetime as dt\n",
        "import numpy as np\n",
        "import random\n",
        "import pandas_datareader.data as web\n",
        "import matplotlib.pyplot as plt\n",
        "from arch import arch_model\n",
        "import tensorflow as tf\n",
        "import keras.backend as K\n",
        "from keras.models import Sequential\n",
        "from keras.layers import LSTM, Dense\n",
        "import tensorflow_probability as tfp\n",
        "\n",
        "quantile = 0.5\n",
        "random.seed(1)"
      ],
      "execution_count": 2,
      "outputs": [
        {
          "output_type": "display_data",
          "data": {
            "text/html": [
              "<p style=\"color: red;\">\n",
              "The default version of TensorFlow in Colab will soon switch to TensorFlow 2.x.<br>\n",
              "We recommend you <a href=\"https://www.tensorflow.org/guide/migrate\" target=\"_blank\">upgrade</a> now \n",
              "or ensure your notebook will continue to use TensorFlow 1.x via the <code>%tensorflow_version 1.x</code> magic:\n",
              "<a href=\"https://colab.research.google.com/notebooks/tensorflow_version.ipynb\" target=\"_blank\">more info</a>.</p>\n"
            ],
            "text/plain": [
              "<IPython.core.display.HTML object>"
            ]
          },
          "metadata": {
            "tags": []
          }
        },
        {
          "output_type": "stream",
          "text": [
            "Using TensorFlow backend.\n"
          ],
          "name": "stderr"
        }
      ]
    },
    {
      "cell_type": "code",
      "metadata": {
        "id": "faI-20jGVerE",
        "colab_type": "code",
        "colab": {}
      },
      "source": [
        "def GARCH(y, start, end, split_date):\n",
        "    \"\"\" General Autoregressive Conditional Heteroskedasticity Model \n",
        "    p -> Lag length\n",
        "    q -> Order of ARCH terms\n",
        "    y -> Timeseries Dataframe\n",
        "    \"\"\"\n",
        "    model = arch_model(y, vol='Garch', p=1, o=0, q=1, dist='StudentsT')\n",
        "    results = model.fit(last_obs=split_date)\n",
        "    print(results.summary())\n",
        "\n",
        "    sims = results.forecast(horizon=8, start=split_date)\n",
        "\n",
        "    sims.variance[split_date:].plot()\n",
        "    plt.title(\"Variance Forecast from \" + split_date.strftime(\"%m/%d/%Y\") +\n",
        "              \" to \" + end.strftime(\"%m/%d/%Y\") + \" (m/d/y)\")\n",
        "    plt.ylabel(\"Variance [%]\")\n",
        "    plt.show()"
      ],
      "execution_count": 0,
      "outputs": []
    },
    {
      "cell_type": "code",
      "metadata": {
        "id": "RECMYtW6VerJ",
        "colab_type": "code",
        "colab": {}
      },
      "source": [
        "def htqf_fun(p):\n",
        "    \"\"\"Uses tensorflow functions to calculate the value at the quantile specified by the global variable 'quantile'\n",
        "\n",
        "    Arguments:\n",
        "        p {tensor} -- tensor that holds the mean, standard deviation, u-value (left tail weight), and v-value (right tail weight)\n",
        "\n",
        "    Returns:\n",
        "        tensor -- value at quantile\n",
        "    \"\"\"\n",
        "    global quantile\n",
        "    return p[0] + tf.abs(p[1])*tfp.distributions.Normal(loc=p[0], scale=tf.abs(p[1])).quantile(quantile) *\\\n",
        "        (tf.math.exp(p[2] * tfp.distributions.Normal(loc=p[0], scale=tf.abs(p[1])).quantile(quantile)) / 4 + 1) *\\\n",
        "        (tf.math.exp(-p[3] * tfp.distributions.Normal(loc=p[0],\n",
        "                                                      scale=tf.abs(p[1])).quantile(quantile))/4 + 1)"
      ],
      "execution_count": 0,
      "outputs": []
    },
    {
      "cell_type": "code",
      "metadata": {
        "id": "Gsz3bpjUVerN",
        "colab_type": "code",
        "colab": {}
      },
      "source": [
        "def pinball_loss(y_true, y_pred):\n",
        "    \"\"\"Custom loss function for quantile regression\n",
        "        - Ideally the quantiles would change and it would optimize\n",
        "            over all instead of just at one quantile.\n",
        "\n",
        "    Arguments:\n",
        "        y_true {tensor} -- True value\n",
        "        y_pred {tensor} -- Predicted parameters for the HTQF\n",
        "\n",
        "    Returns:\n",
        "        tensor -- loss\n",
        "    \"\"\"\n",
        "    quant = tf.map_fn(fn=htqf_fun, elems=y_pred, dtype=tf.float32)\n",
        "    err = y_true - quant\n",
        "    return K.maximum(0.5 * err, (0.5 - 1) * err)"
      ],
      "execution_count": 0,
      "outputs": []
    },
    {
      "cell_type": "code",
      "metadata": {
        "id": "lUGKYTYEVerR",
        "colab_type": "code",
        "colab": {}
      },
      "source": [
        "def moment(x, mu, order):\n",
        "    \"\"\" Returns the moment sepecified by the order\n",
        "    x       -> value\n",
        "    mu      -> mean\n",
        "    order   -> what moment to return\n",
        "\n",
        "    Example:\n",
        "        moment(x, mu, 2) -> second moment\n",
        "        moment(x, mu, 3) -> third moment\n",
        "    \"\"\"\n",
        "    if order == 1:\n",
        "        return x\n",
        "\n",
        "    return (x-mu)**order\n"
      ],
      "execution_count": 0,
      "outputs": []
    },
    {
      "cell_type": "code",
      "metadata": {
        "id": "Alw3AkhGVerV",
        "colab_type": "code",
        "colab": {}
      },
      "source": [
        "def calculate_feature_vector(r_t, L):\n",
        "    \"\"\" Calculates the feature vector for the LSTM Machine\n",
        "    r_t -> returns\n",
        "    L -> Lookback length\n",
        "    \"\"\"\n",
        "    mu = sum(r_t[-L-1:-1]) / L\n",
        "\n",
        "    return np.array([moment(r_t[-L], mu, 1),\n",
        "                     moment(r_t[-L], mu, 2),\n",
        "                     moment(r_t[-L], mu, 3),\n",
        "                     moment(r_t[-L], mu, 4)])"
      ],
      "execution_count": 0,
      "outputs": []
    },
    {
      "cell_type": "code",
      "metadata": {
        "id": "4hAP0lUtVerZ",
        "colab_type": "code",
        "colab": {}
      },
      "source": [
        "def partition_data(ts, L, p_train, p_test, p_val):\n",
        "    \"\"\"Partition the data for training, testing, and validation\n",
        "\n",
        "    Arguments:\n",
        "        ts {np.array} -- Timeseries\n",
        "        L {int} -- Lookback length\n",
        "        p_train {float} -- Percentage of data to make training\n",
        "        p_test {float} -- percentage of data to make testing\n",
        "        p_val {float} -- percentage of data to make validation\n",
        "\n",
        "    Returns:\n",
        "        [type] -- [description]\n",
        "    \"\"\"\n",
        "    x = []\n",
        "    y = []\n",
        "\n",
        "    for i in range(L+1, len(ts)):\n",
        "        x.append(calculate_feature_vector(ts[i-L-1:i], L))\n",
        "        y.append(ts[i])\n",
        "\n",
        "    x = np.array(x)\n",
        "    y = np.array(y)\n",
        "\n",
        "    x_train = x[0:int(len(x)*p_train)]\n",
        "    y_train = y[0:int(len(y)*p_train)]\n",
        "\n",
        "    x_val = x[len(x_train):len(x_train) + int(len(x)*p_val)]\n",
        "    y_val = y[len(x_train):len(x_train) + int(len(x)*p_val)]\n",
        "\n",
        "    x_test = x[len(x_train) + len(x_val):\n",
        "               len(x_train)+len(x_val)+int(len(x)*p_test)]\n",
        "\n",
        "    y_test = y[len(x_train) + len(x_val):len(x_train) +\n",
        "               len(x_val)+int(len(x)*p_test)]\n",
        "\n",
        "    return  np.expand_dims(x_train, axis=1),\\\n",
        "            y_train,\\\n",
        "            np.expand_dims(x_test, axis=1),\\\n",
        "            y_test,\\\n",
        "            np.expand_dims(x_val, axis=1),\\\n",
        "            y_val"
      ],
      "execution_count": 0,
      "outputs": []
    },
    {
      "cell_type": "code",
      "metadata": {
        "id": "zdGjuYd6Verd",
        "colab_type": "code",
        "colab": {
          "base_uri": "https://localhost:8080/",
          "height": 285
        },
        "outputId": "fcade50e-74c5-41b0-ec1c-c7d753217176"
      },
      "source": [
        "start = dt.datetime(1950, 1, 4)\n",
        "end = dt.datetime(2018, 6, 1)\n",
        "data = web.get_data_yahoo('^GSPC', start=start, end=end)\n",
        "r_t = 100*data['Close'].pct_change().dropna()\n",
        "plt.title(\"S&P500 Daily Returns\")\n",
        "plt.ylabel(\"Change [%]\")\n",
        "r_t.plot()\n",
        "plt.show()"
      ],
      "execution_count": 9,
      "outputs": [
        {
          "output_type": "display_data",
          "data": {
            "image/png": "[encoded data removed]",
            "text/plain": [
              "<Figure size 432x288 with 1 Axes>"
            ]
          },
          "metadata": {
            "tags": []
          }
        }
      ]
    },
    {
      "cell_type": "code",
      "metadata": {
        "id": "V9Fbj1Y-Verh",
        "colab_type": "code",
        "colab": {
          "base_uri": "https://localhost:8080/",
          "height": 1000
        },
        "outputId": "6a37fbef-d2b4-4eb4-8dbe-2e7b6c9e1216"
      },
      "source": [
        "split_date = dt.datetime(2010, 1, 1)\n",
        "GARCH(r_t, start, end, split_date)\n",
        "\n",
        "# Plotting the acutal variances (assuming mean = 0)\n",
        "actual_variance = r_t[split_date:]\n",
        "actual_variance.values[:] = np.abs(actual_variance.values[:]) - actual_variance.mean()\n",
        "plt.plot(actual_variance)\n",
        "plt.title(\"Real Variance from \" + split_date.strftime(\"%m/%d/%Y\") + \" to \" + end.strftime(\"%m/%d/%Y\") + \" (m/d/y)\")\n",
        "plt.show()"
      ],
      "execution_count": 10,
      "outputs": [
        {
          "output_type": "stream",
          "text": [
            "/root/.local/lib/python3.6/site-packages/arch/univariate/base.py:260: DataScaleWarning: y is poorly scaled, which may affect convergence of the optimizer when\n",
            "estimating the model parameters. The scale of y is 0.9314. Parameter\n",
            "estimation work better when this value is between 1 and 1000. The recommended\n",
            "rescaling is 10 * y.\n",
            "\n",
            "This warning can be disabled by either rescaling y before initializing the\n",
            "model or by setting rescale=False.\n",
            "\n",
            "  DataScaleWarning)\n"
          ],
          "name": "stderr"
        },
        {
          "output_type": "stream",
          "text": [
            "Iteration:      1,   Func. Count:      7,   Neg. LLF: 17644.170571314113\n",
            "Iteration:      2,   Func. Count:     20,   Neg. LLF: 17633.518859727705\n",
            "Iteration:      3,   Func. Count:     28,   Neg. LLF: 17623.374491287337\n",
            "Iteration:      4,   Func. Count:     38,   Neg. LLF: 17622.26381268903\n",
            "Iteration:      5,   Func. Count:     46,   Neg. LLF: 17591.619337183336\n",
            "Iteration:      6,   Func. Count:     54,   Neg. LLF: 17588.811288114695\n",
            "Iteration:      7,   Func. Count:     62,   Neg. LLF: 17585.526074131772\n",
            "Iteration:      8,   Func. Count:     71,   Neg. LLF: 17584.877684522842\n",
            "Iteration:      9,   Func. Count:     79,   Neg. LLF: 17582.374123877195\n",
            "Iteration:     10,   Func. Count:     87,   Neg. LLF: 17581.89482668523\n",
            "Iteration:     11,   Func. Count:     95,   Neg. LLF: 17581.590471782296\n",
            "Iteration:     12,   Func. Count:    103,   Neg. LLF: 17581.405684942292\n",
            "Iteration:     13,   Func. Count:    110,   Neg. LLF: 17581.40018774135\n",
            "Iteration:     14,   Func. Count:    117,   Neg. LLF: 17581.400175122184\n",
            "Optimization terminated successfully.    (Exit mode 0)\n",
            "            Current function value: 17581.40017512216\n",
            "            Iterations: 14\n",
            "            Function evaluations: 117\n",
            "            Gradient evaluations: 14\n",
            "                        Constant Mean - GARCH Model Results                         \n",
            "====================================================================================\n",
            "Dep. Variable:                        Close   R-squared:                      -0.001\n",
            "Mean Model:                   Constant Mean   Adj. R-squared:                 -0.001\n",
            "Vol Model:                            GARCH   Log-Likelihood:               -17581.4\n",
            "Distribution:      Standardized Student's t   AIC:                           35172.8\n",
            "Method:                  Maximum Likelihood   BIC:                           35210.9\n",
            "                                              No. Observations:                15095\n",
            "Date:                      Thu, Dec 05 2019   Df Residuals:                    15090\n",
            "Time:                              04:41:54   Df Model:                            5\n",
            "                                 Mean Model                                 \n",
            "============================================================================\n",
            "                 coef    std err          t      P>|t|      95.0% Conf. Int.\n",
            "----------------------------------------------------------------------------\n",
            "mu             0.0550  5.366e-03     10.255  1.121e-24 [4.451e-02,6.555e-02]\n",
            "                              Volatility Model                              \n",
            "============================================================================\n",
            "                 coef    std err          t      P>|t|      95.0% Conf. Int.\n",
            "----------------------------------------------------------------------------\n",
            "omega      5.3678e-03  9.402e-04      5.709  1.135e-08 [3.525e-03,7.210e-03]\n",
            "alpha[1]       0.0692  5.686e-03     12.180  3.981e-34 [5.811e-02,8.039e-02]\n",
            "beta[1]        0.9262  5.761e-03    160.778      0.000     [  0.915,  0.938]\n",
            "                              Distribution                              \n",
            "========================================================================\n",
            "                 coef    std err          t      P>|t|  95.0% Conf. Int.\n",
            "------------------------------------------------------------------------\n",
            "nu             6.9635      0.429     16.238  2.732e-59 [  6.123,  7.804]\n",
            "========================================================================\n",
            "\n",
            "Covariance estimator: robust\n"
          ],
          "name": "stdout"
        },
        {
          "output_type": "display_data",
          "data": {
            "image/png": "[encoded data removed]",
            "text/plain": [
              "<Figure size 432x288 with 1 Axes>"
            ]
          },
          "metadata": {
            "tags": []
          }
        },
        {
          "output_type": "display_data",
          "data": {
            "image/png": "[encoded data removed]",
            "text/plain": [
              "<Figure size 432x288 with 1 Axes>"
            ]
          },
          "metadata": {
            "tags": []
          }
        }
      ]
    },
    {
      "cell_type": "code",
      "metadata": {
        "id": "nXHaD-uaVero",
        "colab_type": "code",
        "colab": {}
      },
      "source": [
        "L_set = [40, 60, 80, 100]\n",
        "H_set = [8, 16]\n",
        "L = L_set[3]\n",
        "H = H_set[1]\n",
        "K_quantiles = 21\n",
        "quantiles = [i / (K_quantiles+1) for i in range(1, K_quantiles+1)]\n",
        "x_train, y_train, x_test, y_test, x_val, y_val = partition_data(r_t, L, 0.8, 0.1, 0.1)"
      ],
      "execution_count": 0,
      "outputs": []
    },
    {
      "cell_type": "code",
      "metadata": {
        "id": "cJ2bbhX7Vert",
        "colab_type": "code",
        "colab": {
          "base_uri": "https://localhost:8080/",
          "height": 445
        },
        "outputId": "0b4a0ae9-cc22-4679-c629-fc7ae4fd3ef2"
      },
      "source": [
        "model = Sequential()\n",
        "model.add(LSTM(H, input_shape=(1, 4)))\n",
        "model.add(Dense(4, activation='relu'))\n",
        "print(model.summary())\n",
        "\n",
        "model.compile(loss=pinball_loss, optimizer='adam')"
      ],
      "execution_count": 12,
      "outputs": [
        {
          "output_type": "stream",
          "text": [
            "WARNING:tensorflow:From /usr/local/lib/python3.6/dist-packages/keras/backend/tensorflow_backend.py:66: The name tf.get_default_graph is deprecated. Please use tf.compat.v1.get_default_graph instead.\n",
            "\n",
            "WARNING:tensorflow:From /usr/local/lib/python3.6/dist-packages/keras/backend/tensorflow_backend.py:541: The name tf.placeholder is deprecated. Please use tf.compat.v1.placeholder instead.\n",
            "\n",
            "WARNING:tensorflow:From /usr/local/lib/python3.6/dist-packages/keras/backend/tensorflow_backend.py:4432: The name tf.random_uniform is deprecated. Please use tf.random.uniform instead.\n",
            "\n",
            "Model: \"sequential_1\"\n",
            "_________________________________________________________________\n",
            "Layer (type)                 Output Shape              Param #   \n",
            "=================================================================\n",
            "lstm_1 (LSTM)                (None, 16)                1344      \n",
            "_________________________________________________________________\n",
            "dense_1 (Dense)              (None, 4)                 68        \n",
            "=================================================================\n",
            "Total params: 1,412\n",
            "Trainable params: 1,412\n",
            "Non-trainable params: 0\n",
            "_________________________________________________________________\n",
            "None\n",
            "WARNING:tensorflow:From /usr/local/lib/python3.6/dist-packages/keras/optimizers.py:793: The name tf.train.Optimizer is deprecated. Please use tf.compat.v1.train.Optimizer instead.\n",
            "\n",
            "WARNING:tensorflow:From /usr/local/lib/python3.6/dist-packages/tensorflow_probability/python/internal/special_math.py:251: where (from tensorflow.python.ops.array_ops) is deprecated and will be removed in a future version.\n",
            "Instructions for updating:\n",
            "Use tf.where in 2.0, which has the same broadcast rule as np.where\n"
          ],
          "name": "stdout"
        }
      ]
    },
    {
      "cell_type": "code",
      "metadata": {
        "id": "kUBBMc6NVerz",
        "colab_type": "code",
        "colab": {
          "base_uri": "https://localhost:8080/",
          "height": 357
        },
        "outputId": "a356d25d-67ff-4040-c955-6c09636b5090"
      },
      "source": [
        "model.fit(x_train, y_train, batch_size=1, validation_data=(x_val, y_val))"
      ],
      "execution_count": 13,
      "outputs": [
        {
          "output_type": "stream",
          "text": [
            "WARNING:tensorflow:From /usr/local/lib/python3.6/dist-packages/keras/backend/tensorflow_backend.py:1033: The name tf.assign_add is deprecated. Please use tf.compat.v1.assign_add instead.\n",
            "\n",
            "WARNING:tensorflow:From /usr/local/lib/python3.6/dist-packages/keras/backend/tensorflow_backend.py:1020: The name tf.assign is deprecated. Please use tf.compat.v1.assign instead.\n",
            "\n",
            "WARNING:tensorflow:From /usr/local/lib/python3.6/dist-packages/keras/backend/tensorflow_backend.py:3005: The name tf.Session is deprecated. Please use tf.compat.v1.Session instead.\n",
            "\n",
            "Train on 13689 samples, validate on 1711 samples\n",
            "Epoch 1/1\n",
            "WARNING:tensorflow:From /usr/local/lib/python3.6/dist-packages/keras/backend/tensorflow_backend.py:190: The name tf.get_default_session is deprecated. Please use tf.compat.v1.get_default_session instead.\n",
            "\n",
            "WARNING:tensorflow:From /usr/local/lib/python3.6/dist-packages/keras/backend/tensorflow_backend.py:197: The name tf.ConfigProto is deprecated. Please use tf.compat.v1.ConfigProto instead.\n",
            "\n",
            "WARNING:tensorflow:From /usr/local/lib/python3.6/dist-packages/keras/backend/tensorflow_backend.py:207: The name tf.global_variables is deprecated. Please use tf.compat.v1.global_variables instead.\n",
            "\n",
            "WARNING:tensorflow:From /usr/local/lib/python3.6/dist-packages/keras/backend/tensorflow_backend.py:216: The name tf.is_variable_initialized is deprecated. Please use tf.compat.v1.is_variable_initialized instead.\n",
            "\n",
            "WARNING:tensorflow:From /usr/local/lib/python3.6/dist-packages/keras/backend/tensorflow_backend.py:223: The name tf.variables_initializer is deprecated. Please use tf.compat.v1.variables_initializer instead.\n",
            "\n",
            "13689/13689 [==============================] - 128s 9ms/step - loss: 0.3138 - val_loss: 0.4405\n"
          ],
          "name": "stdout"
        },
        {
          "output_type": "execute_result",
          "data": {
            "text/plain": [
              "<keras.callbacks.History at 0x7f436067ff60>"
            ]
          },
          "metadata": {
            "tags": []
          },
          "execution_count": 13
        }
      ]
    },
    {
      "cell_type": "code",
      "metadata": {
        "id": "AZF0m5pDVer5",
        "colab_type": "code",
        "colab": {
          "base_uri": "https://localhost:8080/",
          "height": 281
        },
        "outputId": "08b85500-6a1e-4356-c69e-0afc00bfbac0"
      },
      "source": [
        "h_t = model.predict(x_test)\n",
        "\n",
        "fig, axs = plt.subplots(2, 2)\n",
        "\n",
        "axs[0][0].plot(np.abs(h_t.T[0]))\n",
        "axs[0][0].set_title(\"Mean\")\n",
        "\n",
        "axs[0][1].plot(np.abs(h_t.T[1]))\n",
        "axs[0][1].set_title(\"Standard Deviations\")\n",
        "\n",
        "axs[1][0].plot(np.abs(h_t.T[2]))\n",
        "axs[1][0].set_title(\"u\")\n",
        "\n",
        "axs[1][1].plot(np.abs(h_t.T[3]))\n",
        "axs[1][1].set_title(\"v\")\n",
        "\n",
        "plt.show()"
      ],
      "execution_count": 14,
      "outputs": [
        {
          "output_type": "display_data",
          "data": {
            "image/png": "[encoded data removed]",
            "text/plain": [
              "<Figure size 432x288 with 4 Axes>"
            ]
          },
          "metadata": {
            "tags": []
          }
        }
      ]
    }
  ]
}